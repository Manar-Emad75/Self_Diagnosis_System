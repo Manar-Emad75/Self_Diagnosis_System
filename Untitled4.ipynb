{
  "nbformat": 4,
  "nbformat_minor": 0,
  "metadata": {
    "colab": {
      "provenance": [],
      "include_colab_link": true
    },
    "kernelspec": {
      "name": "python3",
      "display_name": "Python 3"
    },
    "language_info": {
      "name": "python"
    }
  },
  "cells": [
    {
      "cell_type": "markdown",
      "metadata": {
        "id": "view-in-github",
        "colab_type": "text"
      },
      "source": [
        "<a href=\"https://colab.research.google.com/github/Manar-Emad75/Self_Diagnosis_System/blob/master/Untitled4.ipynb\" target=\"_parent\"><img src=\"https://colab.research.google.com/assets/colab-badge.svg\" alt=\"Open In Colab\"/></a>"
      ]
    },
    {
      "cell_type": "code",
      "source": [
        "!pip install category_encoders"
      ],
      "metadata": {
        "colab": {
          "base_uri": "https://localhost:8080/"
        },
        "id": "DlfmfrEXq-Hx",
        "outputId": "2f937563-ff50-45ff-cccb-f8771057a708"
      },
      "execution_count": 37,
      "outputs": [
        {
          "output_type": "stream",
          "name": "stdout",
          "text": [
            "Requirement already satisfied: category_encoders in /usr/local/lib/python3.10/dist-packages (2.6.3)\n",
            "Requirement already satisfied: numpy>=1.14.0 in /usr/local/lib/python3.10/dist-packages (from category_encoders) (1.25.2)\n",
            "Requirement already satisfied: scikit-learn>=0.20.0 in /usr/local/lib/python3.10/dist-packages (from category_encoders) (1.2.2)\n",
            "Requirement already satisfied: scipy>=1.0.0 in /usr/local/lib/python3.10/dist-packages (from category_encoders) (1.11.4)\n",
            "Requirement already satisfied: statsmodels>=0.9.0 in /usr/local/lib/python3.10/dist-packages (from category_encoders) (0.14.1)\n",
            "Requirement already satisfied: pandas>=1.0.5 in /usr/local/lib/python3.10/dist-packages (from category_encoders) (2.0.3)\n",
            "Requirement already satisfied: patsy>=0.5.1 in /usr/local/lib/python3.10/dist-packages (from category_encoders) (0.5.6)\n",
            "Requirement already satisfied: python-dateutil>=2.8.2 in /usr/local/lib/python3.10/dist-packages (from pandas>=1.0.5->category_encoders) (2.8.2)\n",
            "Requirement already satisfied: pytz>=2020.1 in /usr/local/lib/python3.10/dist-packages (from pandas>=1.0.5->category_encoders) (2023.4)\n",
            "Requirement already satisfied: tzdata>=2022.1 in /usr/local/lib/python3.10/dist-packages (from pandas>=1.0.5->category_encoders) (2024.1)\n",
            "Requirement already satisfied: six in /usr/local/lib/python3.10/dist-packages (from patsy>=0.5.1->category_encoders) (1.16.0)\n",
            "Requirement already satisfied: joblib>=1.1.1 in /usr/local/lib/python3.10/dist-packages (from scikit-learn>=0.20.0->category_encoders) (1.4.0)\n",
            "Requirement already satisfied: threadpoolctl>=2.0.0 in /usr/local/lib/python3.10/dist-packages (from scikit-learn>=0.20.0->category_encoders) (3.4.0)\n",
            "Requirement already satisfied: packaging>=21.3 in /usr/local/lib/python3.10/dist-packages (from statsmodels>=0.9.0->category_encoders) (24.0)\n"
          ]
        }
      ]
    },
    {
      "cell_type": "code",
      "execution_count": 38,
      "metadata": {
        "id": "Ky9Mfg5P7ETT"
      },
      "outputs": [],
      "source": [
        "import numpy as np\n",
        "import pandas as pd\n",
        "from sklearn.preprocessing import LabelEncoder\n",
        "import category_encoders as ce"
      ]
    },
    {
      "cell_type": "code",
      "source": [
        "def Feature_Encoder(X,cols):\n",
        "    for c in cols:\n",
        "        lbl = LabelEncoder()\n",
        "        lbl.fit(list(X[c].values))\n",
        "        X[c] = lbl.transform(list(X[c].values))\n",
        "    return X\n",
        "\n",
        "def featureScaling(X,a,b):\n",
        "    X = np.array(X)\n",
        "    Normalized_X=np.zeros((X.shape[0],X.shape[1]))\n",
        "    #for i in range(X.shape[1]):\n",
        "    Normalized_X=((X-min(X))/(max(X)-min(X)))*(b-a)+a\n",
        "    return Normalized_X"
      ],
      "metadata": {
        "id": "MFAX3Src_opE"
      },
      "execution_count": 39,
      "outputs": []
    },
    {
      "cell_type": "markdown",
      "source": [
        "#read data\n"
      ],
      "metadata": {
        "id": "Sec5RVI152um"
      }
    },
    {
      "cell_type": "code",
      "source": [
        "data = pd.read_csv('/content/ElecDeviceRatingPrediction.csv')\n",
        "\n",
        "data.dropna(how='any',inplace=True)"
      ],
      "metadata": {
        "id": "dTAac29xV7Zb"
      },
      "execution_count": 40,
      "outputs": []
    },
    {
      "cell_type": "markdown",
      "source": [
        "#Trying Binary encoding on 'brand' to reduce dimentionality of the One Hot Encoder"
      ],
      "metadata": {
        "id": "DVhDU5NfjBTq"
      }
    },
    {
      "cell_type": "code",
      "source": [
        "encoder = ce.BinaryEncoder(cols=['brand'])\n",
        "Bencoded_data = encoder.fit_transform(data)\n",
        "print(type(Bencoded_data))"
      ],
      "metadata": {
        "colab": {
          "base_uri": "https://localhost:8080/"
        },
        "id": "Jif4PGOfislJ",
        "outputId": "e5764753-bc5c-4675-b6dc-7fce94b94fb9"
      },
      "execution_count": 41,
      "outputs": [
        {
          "output_type": "stream",
          "name": "stdout",
          "text": [
            "<class 'pandas.core.frame.DataFrame'>\n"
          ]
        }
      ]
    },
    {
      "cell_type": "markdown",
      "source": [
        "#Dummy encoder on 'processor_brand'\n"
      ],
      "metadata": {
        "id": "DF7syk_pjxcs"
      }
    },
    {
      "cell_type": "code",
      "source": [
        "dummy_encoder_cols=['processor_brand']\n",
        "encoded_data=pd.get_dummies(Bencoded_data, columns=dummy_encoder_cols, drop_first=True)"
      ],
      "metadata": {
        "id": "PX0D3y-kjrGc"
      },
      "execution_count": 42,
      "outputs": []
    },
    {
      "cell_type": "markdown",
      "source": [
        "#LabelEncoder to convert string to numerical values"
      ],
      "metadata": {
        "id": "h9AAwBcB4O2V"
      }
    },
    {
      "cell_type": "code",
      "source": [
        "# LabelEncoder to convert string to numerical values\n",
        "cols = ('processor_name', 'os', 'Touchscreen', 'msoffice', 'ram_type')\n",
        "data = Feature_Encoder(data, cols)"
      ],
      "metadata": {
        "id": "Q1kGkLtdWiAf"
      },
      "execution_count": 43,
      "outputs": []
    },
    {
      "cell_type": "markdown",
      "source": [
        "# Remove any string from data"
      ],
      "metadata": {
        "id": "r4kYiylL5j1A"
      }
    },
    {
      "cell_type": "code",
      "source": [
        "df = pd.DataFrame(data)\n",
        "\n",
        "# Remove the units (GB) and convert to numerical values\n",
        "df['ram_gb'] = df['ram_gb'].str.replace(' GB', '').astype(int)\n",
        "df['ssd'] = df['ssd'].str.replace(' GB', '').astype(int)\n",
        "df['hdd'] = df['hdd'].str.replace(' GB', '').astype(int)\n",
        "df['graphic_card_gb'] = df['graphic_card_gb'].str.replace(' GB', '').astype(int)\n",
        "\n",
        "df['warranty'] = df['warranty'].str.replace('No warranty', '0').str.replace('year', '').str.replace('s', '')\n",
        "df['warranty'] = df['warranty'].astype('int32')\n",
        "# print(df['warranty'].unique())\n",
        "\n",
        "df['rating'] = df['rating'].str.replace('star', '').str.replace('s', '')\n",
        "df['rating'] = df['rating'].astype('int32')\n",
        "# print(df['rating'].unique())\n",
        "\n",
        "df['processor_gnrtn'] = df['processor_gnrtn'].str.replace('Not Available', '0').str.replace('th', '').str.strip()\n",
        "df['processor_gnrtn'] = df['processor_gnrtn'].astype('int32')\n",
        "# print(df['processor_gnrtn'].unique())\n",
        "# print(df['processor_gnrtn'].dtype)\n",
        "\n",
        "# vectorized operations (put values in small range)\n",
        "df['ssd'] = (df['ssd'] / 3072)\n",
        "df['hdd'] = (df['hdd'] / 2048)\n",
        "df['Price'] = (df['Price'] / 441990)\n",
        "df['Number of Ratings'] = (df['Number of Ratings'] / 15279)\n",
        "df['Number of Reviews'] = (df['Number of Reviews'] / 1947)\n",
        "# print(df['hdd'].unique())\n",
        "# print(df['Price'].unique())\n",
        "# print(df['Price'].max())"
      ],
      "metadata": {
        "id": "TEYMINXI5foo"
      },
      "execution_count": null,
      "outputs": []
    },
    {
      "cell_type": "markdown",
      "source": [
        "# Perform one-hot encoding for ( weight ) column"
      ],
      "metadata": {
        "id": "YnyOwGIh4di4"
      }
    },
    {
      "cell_type": "code",
      "source": [
        "one_hot_encoded = pd.get_dummies(df['weight'])\n",
        "one_hot_encoded = one_hot_encoded.astype(int)\n",
        "df = pd.concat([df, one_hot_encoded], axis=1)"
      ],
      "metadata": {
        "id": "0H3cO1vg9WOI"
      },
      "execution_count": 50,
      "outputs": []
    },
    {
      "cell_type": "code",
      "source": [
        "print (df)"
      ],
      "metadata": {
        "colab": {
          "base_uri": "https://localhost:8080/"
        },
        "id": "mOUPcbFg4p-n",
        "outputId": "af9d149e-5e17-48ca-c417-72bbeb109c92"
      },
      "execution_count": 49,
      "outputs": [
        {
          "output_type": "stream",
          "name": "stdout",
          "text": [
            "      brand processor_brand  processor_name  processor_gnrtn  ram_gb  \\\n",
            "0      ASUS           Intel               6                0       4   \n",
            "1      ASUS           Intel               2               10       8   \n",
            "2      ASUS           Intel               0                0       4   \n",
            "3    Lenovo           Intel               1               11       4   \n",
            "4        HP             AMD               9                0      16   \n",
            "..      ...             ...             ...              ...     ...   \n",
            "718  Lenovo           Intel               1               11       4   \n",
            "719      HP           Intel               1               11       8   \n",
            "720  Lenovo           Intel               2               11       8   \n",
            "721     MSI           Intel               2               10       8   \n",
            "722    ASUS           Intel               1               11       8   \n",
            "\n",
            "     ram_type       ssd   hdd  os  graphic_card_gb  ... warranty  Touchscreen  \\\n",
            "0           5  0.000000  0.25   4                0  ...        0            0   \n",
            "1           4  0.000000  0.25   0                4  ...        0            0   \n",
            "2           1  0.000000  0.25   4                0  ...        0            0   \n",
            "3           1  0.083333  0.00   4                0  ...        1            0   \n",
            "4           1  0.166667  0.00   4                2  ...        1            0   \n",
            "..        ...       ...   ...  ..              ...  ...      ...          ...   \n",
            "718         1  0.083333  0.00   4                0  ...        0            0   \n",
            "719         1  0.166667  0.00   4                0  ...        0            0   \n",
            "720         1  0.166667  0.00   4                0  ...        3            1   \n",
            "721         4  0.000000  0.25   0                8  ...        0            0   \n",
            "722         1  0.166667  0.00   4                0  ...        1            0   \n",
            "\n",
            "     msoffice     Price  rating  Number of Ratings  Number of Reviews  Casual  \\\n",
            "0           0  0.104052       3           0.000000           0.000000       1   \n",
            "1           0  0.240202       4           0.123110           0.123780       1   \n",
            "2           0  0.052015       3           0.000000           0.000000       1   \n",
            "3           1  0.101790       4           0.002749           0.002054       1   \n",
            "4           1  0.180977       3           0.001505           0.003082       1   \n",
            "..        ...       ...     ...                ...                ...     ...   \n",
            "718         0  0.090495       4           0.000654           0.000514       1   \n",
            "719         0  0.101790       3           0.000000           0.000000       0   \n",
            "720         1  0.147040       4           0.003142           0.006163       1   \n",
            "721         0  0.407226       4           0.001571           0.002568       1   \n",
            "722         1  0.095002       3           0.000000           0.000000       0   \n",
            "\n",
            "     Gaming  ThinNlight  \n",
            "0         0           0  \n",
            "1         0           0  \n",
            "2         0           0  \n",
            "3         0           0  \n",
            "4         0           0  \n",
            "..      ...         ...  \n",
            "718       0           0  \n",
            "719       0           1  \n",
            "720       0           0  \n",
            "721       0           0  \n",
            "722       0           1  \n",
            "\n",
            "[723 rows x 21 columns]\n"
          ]
        }
      ]
    }
  ]
}